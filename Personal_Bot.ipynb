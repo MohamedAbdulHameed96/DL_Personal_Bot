{
 "cells": [
  {
   "cell_type": "code",
   "execution_count": 2,
   "metadata": {},
   "outputs": [],
   "source": [
    "import speech_recognition as sr\n",
    "import pyttsx3\n",
    "import wikipedia\n",
    "import pywhatkit"
   ]
  },
  {
   "cell_type": "code",
   "execution_count": 3,
   "metadata": {},
   "outputs": [],
   "source": [
    "listener = sr.Recognizer()\n",
    "player = pyttsx3.init()"
   ]
  },
  {
   "cell_type": "code",
   "execution_count": 9,
   "metadata": {},
   "outputs": [],
   "source": [
    "def listen():\n",
    "    with sr.Microphone() as input_device:\n",
    "        print(\"I am ready, Listening ....\")\n",
    "        voice_content = listener.listen(input_device)\n",
    "        text_command = listener.recognize_google(voice_content)\n",
    "        text_command = text_command.lower()\n",
    "        print(text_command)\n",
    "\n",
    "    return text_command;"
   ]
  },
  {
   "cell_type": "code",
   "execution_count": 8,
   "metadata": {},
   "outputs": [],
   "source": [
    "def talk(text):\n",
    "    player.say(text)\n",
    "    player.runAndWait()"
   ]
  },
  {
   "cell_type": "code",
   "execution_count": 12,
   "metadata": {},
   "outputs": [
    {
     "name": "stdout",
     "output_type": "stream",
     "text": [
      "I am ready, Listening ....\n"
     ]
    }
   ],
   "source": [
    "def run_voice_bot():\n",
    "     command = listen()\n",
    "     if \"Abdul\" in command:\n",
    "        command = command.replace(\"Abdul\",\"\")\n",
    "        if \"what is\" in command:\n",
    "            command = command.replace(\"what is\", \"\")\n",
    "            info = wikipedia.summary(command, 5)\n",
    "            talk(info)\n",
    "        elif \"who is\" in command:\n",
    "            command = command.replace(\"who is\", \"\")\n",
    "            info = wikipedia.summary(command, 5)\n",
    "            talk(info)\n",
    "        elif \"play\" in command:\n",
    "            command = command.replace(\"play\", \"\")\n",
    "            pywhatkit.playonyt(command)\n",
    "        else:\n",
    "            talk(\"Sorry, I am unable to find what you looking for\")\n",
    "\n",
    "\n",
    "run_voice_bot()"
   ]
  }
 ],
 "metadata": {
  "kernelspec": {
   "display_name": "Python 3",
   "language": "python",
   "name": "python3"
  },
  "language_info": {
   "codemirror_mode": {
    "name": "ipython",
    "version": 3
   },
   "file_extension": ".py",
   "mimetype": "text/x-python",
   "name": "python",
   "nbconvert_exporter": "python",
   "pygments_lexer": "ipython3",
   "version": "3.12.3"
  }
 },
 "nbformat": 4,
 "nbformat_minor": 2
}
